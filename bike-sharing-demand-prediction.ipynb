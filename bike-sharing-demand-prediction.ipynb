{
 "cells": [
  {
   "cell_type": "code",
   "execution_count": 1,
   "id": "e34e1030",
   "metadata": {
    "execution": {
     "iopub.execute_input": "2023-11-05T18:06:41.480528Z",
     "iopub.status.busy": "2023-11-05T18:06:41.479726Z",
     "iopub.status.idle": "2023-11-05T18:06:43.909876Z",
     "shell.execute_reply": "2023-11-05T18:06:43.908690Z"
    },
    "papermill": {
     "duration": 2.441919,
     "end_time": "2023-11-05T18:06:43.912879",
     "exception": false,
     "start_time": "2023-11-05T18:06:41.470960",
     "status": "completed"
    },
    "tags": []
   },
   "outputs": [],
   "source": [
    "# Import necessary libraries\n",
    "import pandas as pd\n",
    "import numpy as np\n",
    "import matplotlib.pyplot as plt\n",
    "import seaborn as sns\n",
    "from sklearn.model_selection import train_test_split\n",
    "from sklearn.preprocessing import StandardScaler\n",
    "from sklearn.ensemble import RandomForestRegressor\n",
    "from sklearn.metrics import make_scorer\n",
    "from sklearn.model_selection import GridSearchCV"
   ]
  },
  {
   "cell_type": "code",
   "execution_count": 2,
   "id": "c6d466b8",
   "metadata": {
    "execution": {
     "iopub.execute_input": "2023-11-05T18:06:43.929386Z",
     "iopub.status.busy": "2023-11-05T18:06:43.928826Z",
     "iopub.status.idle": "2023-11-05T18:06:43.992956Z",
     "shell.execute_reply": "2023-11-05T18:06:43.991876Z"
    },
    "papermill": {
     "duration": 0.074319,
     "end_time": "2023-11-05T18:06:43.995494",
     "exception": false,
     "start_time": "2023-11-05T18:06:43.921175",
     "status": "completed"
    },
    "tags": []
   },
   "outputs": [
    {
     "name": "stdout",
     "output_type": "stream",
     "text": [
      "              datetime  season  holiday  workingday  weather  temp   atemp  \\\n",
      "0  2011-01-01 00:00:00       1        0           0        1  9.84  14.395   \n",
      "1  2011-01-01 01:00:00       1        0           0        1  9.02  13.635   \n",
      "2  2011-01-01 02:00:00       1        0           0        1  9.02  13.635   \n",
      "3  2011-01-01 03:00:00       1        0           0        1  9.84  14.395   \n",
      "4  2011-01-01 04:00:00       1        0           0        1  9.84  14.395   \n",
      "\n",
      "   humidity  windspeed  casual  registered  count  \n",
      "0        81        0.0       3          13     16  \n",
      "1        80        0.0       8          32     40  \n",
      "2        80        0.0       5          27     32  \n",
      "3        75        0.0       3          10     13  \n",
      "4        75        0.0       0           1      1  \n"
     ]
    }
   ],
   "source": [
    "# Load the data\n",
    "df = pd.read_csv('/kaggle/input/bike-sharing-demand/train.csv')\n",
    "\n",
    "# Display the first few rows of the dataframe\n",
    "print(df.head())"
   ]
  },
  {
   "cell_type": "code",
   "execution_count": 3,
   "id": "1fef8504",
   "metadata": {
    "execution": {
     "iopub.execute_input": "2023-11-05T18:06:44.011020Z",
     "iopub.status.busy": "2023-11-05T18:06:44.009859Z",
     "iopub.status.idle": "2023-11-05T18:06:44.021501Z",
     "shell.execute_reply": "2023-11-05T18:06:44.020176Z"
    },
    "papermill": {
     "duration": 0.022227,
     "end_time": "2023-11-05T18:06:44.024184",
     "exception": false,
     "start_time": "2023-11-05T18:06:44.001957",
     "status": "completed"
    },
    "tags": []
   },
   "outputs": [
    {
     "name": "stdout",
     "output_type": "stream",
     "text": [
      "datetime      0\n",
      "season        0\n",
      "holiday       0\n",
      "workingday    0\n",
      "weather       0\n",
      "temp          0\n",
      "atemp         0\n",
      "humidity      0\n",
      "windspeed     0\n",
      "casual        0\n",
      "registered    0\n",
      "count         0\n",
      "dtype: int64\n"
     ]
    }
   ],
   "source": [
    "# Check for missing values\n",
    "print(df.isnull().sum())"
   ]
  },
  {
   "cell_type": "code",
   "execution_count": 4,
   "id": "7cf91511",
   "metadata": {
    "execution": {
     "iopub.execute_input": "2023-11-05T18:06:44.039125Z",
     "iopub.status.busy": "2023-11-05T18:06:44.038481Z",
     "iopub.status.idle": "2023-11-05T18:06:44.065739Z",
     "shell.execute_reply": "2023-11-05T18:06:44.064549Z"
    },
    "papermill": {
     "duration": 0.038072,
     "end_time": "2023-11-05T18:06:44.068662",
     "exception": false,
     "start_time": "2023-11-05T18:06:44.030590",
     "status": "completed"
    },
    "tags": []
   },
   "outputs": [],
   "source": [
    "# Convert 'datetime' column to datetime format\n",
    "df['datetime'] = pd.to_datetime(df['datetime'])\n",
    "\n",
    "# Extract features from 'datetime' column\n",
    "df['year'] = df['datetime'].dt.year\n",
    "df['month'] = df['datetime'].dt.month\n",
    "df['day'] = df['datetime'].dt.day\n",
    "df['hour'] = df['datetime'].dt.hour"
   ]
  },
  {
   "cell_type": "code",
   "execution_count": 5,
   "id": "bfdca816",
   "metadata": {
    "execution": {
     "iopub.execute_input": "2023-11-05T18:06:44.084312Z",
     "iopub.status.busy": "2023-11-05T18:06:44.083073Z",
     "iopub.status.idle": "2023-11-05T18:06:44.098491Z",
     "shell.execute_reply": "2023-11-05T18:06:44.097278Z"
    },
    "papermill": {
     "duration": 0.025806,
     "end_time": "2023-11-05T18:06:44.101038",
     "exception": false,
     "start_time": "2023-11-05T18:06:44.075232",
     "status": "completed"
    },
    "tags": []
   },
   "outputs": [],
   "source": [
    "# Drop 'datetime' column as we have extracted the necessary features\n",
    "df = df.drop(['datetime'], axis=1)"
   ]
  },
  {
   "cell_type": "code",
   "execution_count": 6,
   "id": "e4ad6af9",
   "metadata": {
    "execution": {
     "iopub.execute_input": "2023-11-05T18:06:44.116037Z",
     "iopub.status.busy": "2023-11-05T18:06:44.115392Z",
     "iopub.status.idle": "2023-11-05T18:06:44.121936Z",
     "shell.execute_reply": "2023-11-05T18:06:44.121131Z"
    },
    "papermill": {
     "duration": 0.016621,
     "end_time": "2023-11-05T18:06:44.124227",
     "exception": false,
     "start_time": "2023-11-05T18:06:44.107606",
     "status": "completed"
    },
    "tags": []
   },
   "outputs": [],
   "source": [
    "# Drop features which will not exist in test.csv (input for submission predictions)\n",
    "df = df.drop(['casual','registered'], axis=1)"
   ]
  },
  {
   "cell_type": "code",
   "execution_count": 7,
   "id": "19a2ae52",
   "metadata": {
    "execution": {
     "iopub.execute_input": "2023-11-05T18:06:44.138782Z",
     "iopub.status.busy": "2023-11-05T18:06:44.138397Z",
     "iopub.status.idle": "2023-11-05T18:06:44.150155Z",
     "shell.execute_reply": "2023-11-05T18:06:44.149156Z"
    },
    "papermill": {
     "duration": 0.021884,
     "end_time": "2023-11-05T18:06:44.152577",
     "exception": false,
     "start_time": "2023-11-05T18:06:44.130693",
     "status": "completed"
    },
    "tags": []
   },
   "outputs": [],
   "source": [
    "# Split the data into training and test sets\n",
    "X = df.drop(['count'], axis=1)\n",
    "y = df['count']\n",
    "X_train, X_test, y_train, y_test = train_test_split(X, y, test_size=0.2, random_state=42)"
   ]
  },
  {
   "cell_type": "code",
   "execution_count": 8,
   "id": "9747f487",
   "metadata": {
    "execution": {
     "iopub.execute_input": "2023-11-05T18:06:44.167133Z",
     "iopub.status.busy": "2023-11-05T18:06:44.166722Z",
     "iopub.status.idle": "2023-11-05T18:06:44.180319Z",
     "shell.execute_reply": "2023-11-05T18:06:44.179349Z"
    },
    "papermill": {
     "duration": 0.023655,
     "end_time": "2023-11-05T18:06:44.182741",
     "exception": false,
     "start_time": "2023-11-05T18:06:44.159086",
     "status": "completed"
    },
    "tags": []
   },
   "outputs": [],
   "source": [
    "# Scale the features\n",
    "scaler = StandardScaler()\n",
    "X_train = scaler.fit_transform(X_train)\n",
    "X_test = scaler.transform(X_test)"
   ]
  },
  {
   "cell_type": "code",
   "execution_count": 9,
   "id": "473732fd",
   "metadata": {
    "execution": {
     "iopub.execute_input": "2023-11-05T18:06:44.197953Z",
     "iopub.status.busy": "2023-11-05T18:06:44.197098Z",
     "iopub.status.idle": "2023-11-05T18:06:44.202892Z",
     "shell.execute_reply": "2023-11-05T18:06:44.201663Z"
    },
    "papermill": {
     "duration": 0.016065,
     "end_time": "2023-11-05T18:06:44.205347",
     "exception": false,
     "start_time": "2023-11-05T18:06:44.189282",
     "status": "completed"
    },
    "tags": []
   },
   "outputs": [],
   "source": [
    "# Define RMSLE function\n",
    "def rmsle(y_true, y_pred):\n",
    "    return np.sqrt(np.mean(np.power(np.log1p(y_pred) - np.log1p(y_true), 2)))"
   ]
  },
  {
   "cell_type": "code",
   "execution_count": 10,
   "id": "1d8a0af0",
   "metadata": {
    "execution": {
     "iopub.execute_input": "2023-11-05T18:06:44.219936Z",
     "iopub.status.busy": "2023-11-05T18:06:44.219525Z",
     "iopub.status.idle": "2023-11-05T18:06:44.224550Z",
     "shell.execute_reply": "2023-11-05T18:06:44.223459Z"
    },
    "papermill": {
     "duration": 0.015141,
     "end_time": "2023-11-05T18:06:44.227008",
     "exception": false,
     "start_time": "2023-11-05T18:06:44.211867",
     "status": "completed"
    },
    "tags": []
   },
   "outputs": [],
   "source": [
    "# Make a scorer for RMSLE\n",
    "rmsle_scorer = make_scorer(rmsle, greater_is_better=False)"
   ]
  },
  {
   "cell_type": "code",
   "execution_count": 11,
   "id": "5af65dc2",
   "metadata": {
    "execution": {
     "iopub.execute_input": "2023-11-05T18:06:44.241440Z",
     "iopub.status.busy": "2023-11-05T18:06:44.241046Z",
     "iopub.status.idle": "2023-11-05T18:06:44.246047Z",
     "shell.execute_reply": "2023-11-05T18:06:44.244816Z"
    },
    "papermill": {
     "duration": 0.01486,
     "end_time": "2023-11-05T18:06:44.248252",
     "exception": false,
     "start_time": "2023-11-05T18:06:44.233392",
     "status": "completed"
    },
    "tags": []
   },
   "outputs": [],
   "source": [
    "# Define the model\n",
    "model = RandomForestRegressor()"
   ]
  },
  {
   "cell_type": "code",
   "execution_count": 12,
   "id": "4c28a13b",
   "metadata": {
    "execution": {
     "iopub.execute_input": "2023-11-05T18:06:44.263059Z",
     "iopub.status.busy": "2023-11-05T18:06:44.262671Z",
     "iopub.status.idle": "2023-11-05T18:08:43.415058Z",
     "shell.execute_reply": "2023-11-05T18:08:43.413523Z"
    },
    "papermill": {
     "duration": 119.167458,
     "end_time": "2023-11-05T18:08:43.422166",
     "exception": false,
     "start_time": "2023-11-05T18:06:44.254708",
     "status": "completed"
    },
    "tags": []
   },
   "outputs": [
    {
     "data": {
      "text/html": [
       "<style>#sk-container-id-1 {color: black;background-color: white;}#sk-container-id-1 pre{padding: 0;}#sk-container-id-1 div.sk-toggleable {background-color: white;}#sk-container-id-1 label.sk-toggleable__label {cursor: pointer;display: block;width: 100%;margin-bottom: 0;padding: 0.3em;box-sizing: border-box;text-align: center;}#sk-container-id-1 label.sk-toggleable__label-arrow:before {content: \"▸\";float: left;margin-right: 0.25em;color: #696969;}#sk-container-id-1 label.sk-toggleable__label-arrow:hover:before {color: black;}#sk-container-id-1 div.sk-estimator:hover label.sk-toggleable__label-arrow:before {color: black;}#sk-container-id-1 div.sk-toggleable__content {max-height: 0;max-width: 0;overflow: hidden;text-align: left;background-color: #f0f8ff;}#sk-container-id-1 div.sk-toggleable__content pre {margin: 0.2em;color: black;border-radius: 0.25em;background-color: #f0f8ff;}#sk-container-id-1 input.sk-toggleable__control:checked~div.sk-toggleable__content {max-height: 200px;max-width: 100%;overflow: auto;}#sk-container-id-1 input.sk-toggleable__control:checked~label.sk-toggleable__label-arrow:before {content: \"▾\";}#sk-container-id-1 div.sk-estimator input.sk-toggleable__control:checked~label.sk-toggleable__label {background-color: #d4ebff;}#sk-container-id-1 div.sk-label input.sk-toggleable__control:checked~label.sk-toggleable__label {background-color: #d4ebff;}#sk-container-id-1 input.sk-hidden--visually {border: 0;clip: rect(1px 1px 1px 1px);clip: rect(1px, 1px, 1px, 1px);height: 1px;margin: -1px;overflow: hidden;padding: 0;position: absolute;width: 1px;}#sk-container-id-1 div.sk-estimator {font-family: monospace;background-color: #f0f8ff;border: 1px dotted black;border-radius: 0.25em;box-sizing: border-box;margin-bottom: 0.5em;}#sk-container-id-1 div.sk-estimator:hover {background-color: #d4ebff;}#sk-container-id-1 div.sk-parallel-item::after {content: \"\";width: 100%;border-bottom: 1px solid gray;flex-grow: 1;}#sk-container-id-1 div.sk-label:hover label.sk-toggleable__label {background-color: #d4ebff;}#sk-container-id-1 div.sk-serial::before {content: \"\";position: absolute;border-left: 1px solid gray;box-sizing: border-box;top: 0;bottom: 0;left: 50%;z-index: 0;}#sk-container-id-1 div.sk-serial {display: flex;flex-direction: column;align-items: center;background-color: white;padding-right: 0.2em;padding-left: 0.2em;position: relative;}#sk-container-id-1 div.sk-item {position: relative;z-index: 1;}#sk-container-id-1 div.sk-parallel {display: flex;align-items: stretch;justify-content: center;background-color: white;position: relative;}#sk-container-id-1 div.sk-item::before, #sk-container-id-1 div.sk-parallel-item::before {content: \"\";position: absolute;border-left: 1px solid gray;box-sizing: border-box;top: 0;bottom: 0;left: 50%;z-index: -1;}#sk-container-id-1 div.sk-parallel-item {display: flex;flex-direction: column;z-index: 1;position: relative;background-color: white;}#sk-container-id-1 div.sk-parallel-item:first-child::after {align-self: flex-end;width: 50%;}#sk-container-id-1 div.sk-parallel-item:last-child::after {align-self: flex-start;width: 50%;}#sk-container-id-1 div.sk-parallel-item:only-child::after {width: 0;}#sk-container-id-1 div.sk-dashed-wrapped {border: 1px dashed gray;margin: 0 0.4em 0.5em 0.4em;box-sizing: border-box;padding-bottom: 0.4em;background-color: white;}#sk-container-id-1 div.sk-label label {font-family: monospace;font-weight: bold;display: inline-block;line-height: 1.2em;}#sk-container-id-1 div.sk-label-container {text-align: center;}#sk-container-id-1 div.sk-container {/* jupyter's `normalize.less` sets `[hidden] { display: none; }` but bootstrap.min.css set `[hidden] { display: none !important; }` so we also need the `!important` here to be able to override the default hidden behavior on the sphinx rendered scikit-learn.org. See: https://github.com/scikit-learn/scikit-learn/issues/21755 */display: inline-block !important;position: relative;}#sk-container-id-1 div.sk-text-repr-fallback {display: none;}</style><div id=\"sk-container-id-1\" class=\"sk-top-container\"><div class=\"sk-text-repr-fallback\"><pre>GridSearchCV(cv=5, estimator=RandomForestRegressor(),\n",
       "             param_grid={&#x27;max_depth&#x27;: [None, 10, 20],\n",
       "                         &#x27;n_estimators&#x27;: [100, 200]},\n",
       "             scoring=make_scorer(rmsle, greater_is_better=False))</pre><b>In a Jupyter environment, please rerun this cell to show the HTML representation or trust the notebook. <br />On GitHub, the HTML representation is unable to render, please try loading this page with nbviewer.org.</b></div><div class=\"sk-container\" hidden><div class=\"sk-item sk-dashed-wrapped\"><div class=\"sk-label-container\"><div class=\"sk-label sk-toggleable\"><input class=\"sk-toggleable__control sk-hidden--visually\" id=\"sk-estimator-id-1\" type=\"checkbox\" ><label for=\"sk-estimator-id-1\" class=\"sk-toggleable__label sk-toggleable__label-arrow\">GridSearchCV</label><div class=\"sk-toggleable__content\"><pre>GridSearchCV(cv=5, estimator=RandomForestRegressor(),\n",
       "             param_grid={&#x27;max_depth&#x27;: [None, 10, 20],\n",
       "                         &#x27;n_estimators&#x27;: [100, 200]},\n",
       "             scoring=make_scorer(rmsle, greater_is_better=False))</pre></div></div></div><div class=\"sk-parallel\"><div class=\"sk-parallel-item\"><div class=\"sk-item\"><div class=\"sk-label-container\"><div class=\"sk-label sk-toggleable\"><input class=\"sk-toggleable__control sk-hidden--visually\" id=\"sk-estimator-id-2\" type=\"checkbox\" ><label for=\"sk-estimator-id-2\" class=\"sk-toggleable__label sk-toggleable__label-arrow\">estimator: RandomForestRegressor</label><div class=\"sk-toggleable__content\"><pre>RandomForestRegressor()</pre></div></div></div><div class=\"sk-serial\"><div class=\"sk-item\"><div class=\"sk-estimator sk-toggleable\"><input class=\"sk-toggleable__control sk-hidden--visually\" id=\"sk-estimator-id-3\" type=\"checkbox\" ><label for=\"sk-estimator-id-3\" class=\"sk-toggleable__label sk-toggleable__label-arrow\">RandomForestRegressor</label><div class=\"sk-toggleable__content\"><pre>RandomForestRegressor()</pre></div></div></div></div></div></div></div></div></div></div>"
      ],
      "text/plain": [
       "GridSearchCV(cv=5, estimator=RandomForestRegressor(),\n",
       "             param_grid={'max_depth': [None, 10, 20],\n",
       "                         'n_estimators': [100, 200]},\n",
       "             scoring=make_scorer(rmsle, greater_is_better=False))"
      ]
     },
     "execution_count": 12,
     "metadata": {},
     "output_type": "execute_result"
    }
   ],
   "source": [
    "# Define the parameters for Grid Search\n",
    "param_grid = {\n",
    "    'n_estimators': [100, 200],\n",
    "    'max_depth': [None, 10, 20],\n",
    "}\n",
    "# Perform Grid Search\n",
    "grid_search = GridSearchCV(model, param_grid, cv=5, scoring=rmsle_scorer)\n",
    "grid_search.fit(X_train, y_train)"
   ]
  },
  {
   "cell_type": "code",
   "execution_count": 13,
   "id": "9fb08878",
   "metadata": {
    "execution": {
     "iopub.execute_input": "2023-11-05T18:08:43.438197Z",
     "iopub.status.busy": "2023-11-05T18:08:43.437344Z",
     "iopub.status.idle": "2023-11-05T18:08:43.443322Z",
     "shell.execute_reply": "2023-11-05T18:08:43.442424Z"
    },
    "papermill": {
     "duration": 0.016514,
     "end_time": "2023-11-05T18:08:43.445674",
     "exception": false,
     "start_time": "2023-11-05T18:08:43.429160",
     "status": "completed"
    },
    "tags": []
   },
   "outputs": [
    {
     "name": "stdout",
     "output_type": "stream",
     "text": [
      "Best parameters: {'max_depth': None, 'n_estimators': 200}\n",
      "Best RMSLE: 0.5936355117945386\n"
     ]
    }
   ],
   "source": [
    "# Print the best parameters and the corresponding RMSLE\n",
    "print(f'Best parameters: {grid_search.best_params_}')\n",
    "print(f'Best RMSLE: {np.sqrt(-grid_search.best_score_)}')"
   ]
  },
  {
   "cell_type": "code",
   "execution_count": 14,
   "id": "03623327",
   "metadata": {
    "execution": {
     "iopub.execute_input": "2023-11-05T18:08:43.461850Z",
     "iopub.status.busy": "2023-11-05T18:08:43.461379Z",
     "iopub.status.idle": "2023-11-05T18:08:43.610214Z",
     "shell.execute_reply": "2023-11-05T18:08:43.608902Z"
    },
    "papermill": {
     "duration": 0.160597,
     "end_time": "2023-11-05T18:08:43.613257",
     "exception": false,
     "start_time": "2023-11-05T18:08:43.452660",
     "status": "completed"
    },
    "tags": []
   },
   "outputs": [],
   "source": [
    "# Use the best estimator to make predictions on the test set\n",
    "best_model = grid_search.best_estimator_\n",
    "predictions = best_model.predict(X_test)"
   ]
  },
  {
   "cell_type": "code",
   "execution_count": 15,
   "id": "de6798c5",
   "metadata": {
    "execution": {
     "iopub.execute_input": "2023-11-05T18:08:43.630188Z",
     "iopub.status.busy": "2023-11-05T18:08:43.629716Z",
     "iopub.status.idle": "2023-11-05T18:08:43.637552Z",
     "shell.execute_reply": "2023-11-05T18:08:43.636380Z"
    },
    "papermill": {
     "duration": 0.019613,
     "end_time": "2023-11-05T18:08:43.640002",
     "exception": false,
     "start_time": "2023-11-05T18:08:43.620389",
     "status": "completed"
    },
    "tags": []
   },
   "outputs": [
    {
     "name": "stdout",
     "output_type": "stream",
     "text": [
      "Test RMSLE: 0.3428653215430157\n"
     ]
    }
   ],
   "source": [
    "# Calculate the RMSLE on the test set\n",
    "test_rmsle = rmsle(y_test, predictions)\n",
    "print(f'Test RMSLE: {test_rmsle}')"
   ]
  },
  {
   "cell_type": "code",
   "execution_count": 16,
   "id": "fd7df608",
   "metadata": {
    "execution": {
     "iopub.execute_input": "2023-11-05T18:08:43.656420Z",
     "iopub.status.busy": "2023-11-05T18:08:43.655991Z",
     "iopub.status.idle": "2023-11-05T18:08:43.949523Z",
     "shell.execute_reply": "2023-11-05T18:08:43.948178Z"
    },
    "papermill": {
     "duration": 0.305176,
     "end_time": "2023-11-05T18:08:43.952752",
     "exception": false,
     "start_time": "2023-11-05T18:08:43.647576",
     "status": "completed"
    },
    "tags": []
   },
   "outputs": [],
   "source": [
    "# Load the test data\n",
    "test_df = pd.read_csv('/kaggle/input/bike-sharing-demand/test.csv')\n",
    "\n",
    "# Keep the original 'datetime' column\n",
    "original_datetime = test_df['datetime'].copy()\n",
    "\n",
    "# Preprocess the test data in the same way as the training data\n",
    "test_df['datetime'] = pd.to_datetime(test_df['datetime'])\n",
    "test_df['year'] = test_df['datetime'].dt.year\n",
    "test_df['month'] = test_df['datetime'].dt.month\n",
    "test_df['day'] = test_df['datetime'].dt.day\n",
    "test_df['hour'] = test_df['datetime'].dt.hour\n",
    "test_df = test_df.drop(['datetime'], axis=1)\n",
    "\n",
    "# Scale the test data using the same scaler fitted on the training data\n",
    "test_data = scaler.transform(test_df)\n",
    "\n",
    "# Use the best model to make predictions on the test data\n",
    "test_predictions = best_model.predict(test_data)\n",
    "\n",
    "# Create a dataframe for the output\n",
    "output = pd.DataFrame({'datetime': original_datetime, 'count': test_predictions})\n",
    "\n",
    "# Convert the 'count' column to integers as count of rented bikes should be an integer\n",
    "output['count'] = output['count'].astype(int)\n",
    "\n",
    "# Write the output dataframe to a csv file\n",
    "output.to_csv('submission.csv', index=False)\n"
   ]
  },
  {
   "cell_type": "code",
   "execution_count": null,
   "id": "dbd33950",
   "metadata": {
    "papermill": {
     "duration": 0.006884,
     "end_time": "2023-11-05T18:08:43.966880",
     "exception": false,
     "start_time": "2023-11-05T18:08:43.959996",
     "status": "completed"
    },
    "tags": []
   },
   "outputs": [],
   "source": []
  },
  {
   "cell_type": "code",
   "execution_count": null,
   "id": "5c98a2a1",
   "metadata": {
    "papermill": {
     "duration": 0.00674,
     "end_time": "2023-11-05T18:08:43.980813",
     "exception": false,
     "start_time": "2023-11-05T18:08:43.974073",
     "status": "completed"
    },
    "tags": []
   },
   "outputs": [],
   "source": []
  }
 ],
 "metadata": {
  "kernelspec": {
   "display_name": "Python 3",
   "language": "python",
   "name": "python3"
  },
  "language_info": {
   "codemirror_mode": {
    "name": "ipython",
    "version": 3
   },
   "file_extension": ".py",
   "mimetype": "text/x-python",
   "name": "python",
   "nbconvert_exporter": "python",
   "pygments_lexer": "ipython3",
   "version": "3.10.12"
  },
  "papermill": {
   "default_parameters": {},
   "duration": 126.653191,
   "end_time": "2023-11-05T18:08:44.610531",
   "environment_variables": {},
   "exception": null,
   "input_path": "__notebook__.ipynb",
   "output_path": "__notebook__.ipynb",
   "parameters": {},
   "start_time": "2023-11-05T18:06:37.957340",
   "version": "2.4.0"
  }
 },
 "nbformat": 4,
 "nbformat_minor": 5
}
